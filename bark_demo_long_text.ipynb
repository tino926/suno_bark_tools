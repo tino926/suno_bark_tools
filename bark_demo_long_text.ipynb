{
  "nbformat": 4,
  "nbformat_minor": 0,
  "metadata": {
    "colab": {
      "provenance": [],
      "include_colab_link": true
    },
    "kernelspec": {
      "name": "python3",
      "display_name": "Python 3"
    },
    "language_info": {
      "name": "python"
    },
    "accelerator": "GPU",
    "gpuClass": "standard"
  },
  "cells": [
    {
      "cell_type": "markdown",
      "metadata": {
        "id": "view-in-github",
        "colab_type": "text"
      },
      "source": [
        "<a href=\"https://colab.research.google.com/github/tino926/suno_bark_tools/blob/main/bark_demo_long_text.ipynb\" target=\"_parent\"><img src=\"https://colab.research.google.com/assets/colab-badge.svg\" alt=\"Open In Colab\"/></a>"
      ]
    },
    {
      "cell_type": "markdown",
      "source": [
        "## Install"
      ],
      "metadata": {
        "id": "NO47mAC5iGH7"
      }
    },
    {
      "cell_type": "code",
      "source": [
        "# install bark (make sure you have torch>=2 for much faster flash-attention)\n",
        "!pip install git+https://github.com/suno-ai/bark.git"
      ],
      "metadata": {
        "id": "YkizeTpG_3T7"
      },
      "execution_count": null,
      "outputs": []
    },
    {
      "cell_type": "markdown",
      "source": [
        "## Basics"
      ],
      "metadata": {
        "id": "7Ge31CAciLNJ"
      }
    },
    {
      "cell_type": "code",
      "source": [
        "from bark import SAMPLE_RATE, generate_audio, preload_models\n",
        "from bark.api import semantic_to_waveform\n",
        "from IPython.display import Audio\n",
        "from scipy.io.wavfile import write as write_wav\n",
        "import nltk  # we'll use this to split into sentences\n",
        "import numpy as np\n",
        "\n",
        "from bark.generation import (\n",
        "    generate_text_semantic,\n",
        "    preload_models,\n",
        ")\n",
        "\n",
        "preload_models()\n",
        "nltk.download('punkt')"
      ],
      "metadata": {
        "id": "t9Vlr3RRt6B9"
      },
      "execution_count": null,
      "outputs": []
    },
    {
      "cell_type": "code",
      "source": [],
      "metadata": {
        "id": "fF5ftGN4B3dA"
      },
      "execution_count": null,
      "outputs": []
    },
    {
      "cell_type": "code",
      "source": [
        "from scipy.io.wavfile import write as write_wav\n",
        "import nltk  # we'll use this to split into sentences\n",
        "import numpy as np\n",
        "\n",
        "script = \"\"\"\n",
        "They see me shining\n",
        "But don't see the cracks in the diamond\n",
        "They want a piece of my soul\n",
        "But I won't give them control\n",
        "\"\"\".replace(\"\\n\", \" \").strip()\n",
        "\n",
        "sentences = nltk.sent_tokenize(script)\n",
        "\n",
        "\n",
        "GEN_TEMP = 0.6\n",
        "SPEAKER = \"v2/en_speaker_9\"\n",
        "silence = np.zeros(int(0.25 * SAMPLE_RATE))  # quarter second of silence\n",
        "\n",
        "\n",
        "pieces = []\n",
        "for sentence in sentences:\n",
        "    semantic_tokens = generate_text_semantic(\n",
        "        sentence,\n",
        "        history_prompt=SPEAKER,\n",
        "        temp=GEN_TEMP,\n",
        "        min_eos_p=0.05,  # this controls how likely the generation is to end\n",
        "    )\n",
        "\n",
        "    audio_array = semantic_to_waveform(semantic_tokens, history_prompt=SPEAKER,)\n",
        "    pieces += [audio_array, silence.copy()]\n",
        "\n",
        "\n",
        "audio_array = np.concatenate(pieces)\n",
        "\n",
        "# audio_array = generate_audio(text_prompt, history_prompt=\"v2/en_speaker_9\")\n",
        "# save audio to disk\n",
        "\n",
        "write_wav(\"bark_generation.wav\", SAMPLE_RATE, audio_array)\n",
        "Audio(audio_array, rate=SAMPLE_RATE*1.1)"
      ],
      "metadata": {
        "id": "EQuIarGgo2K-"
      },
      "execution_count": null,
      "outputs": []
    },
    {
      "cell_type": "code",
      "source": [],
      "metadata": {
        "id": "2_aabDFBD6yt"
      },
      "execution_count": null,
      "outputs": []
    },
    {
      "cell_type": "code",
      "source": [],
      "metadata": {
        "id": "j5FjW_dPD6o1"
      },
      "execution_count": null,
      "outputs": []
    }
  ]
}